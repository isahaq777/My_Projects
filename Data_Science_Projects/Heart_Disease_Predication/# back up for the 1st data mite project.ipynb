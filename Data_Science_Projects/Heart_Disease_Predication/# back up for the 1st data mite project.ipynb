{
 "cells": [
  {
   "cell_type": "code",
   "execution_count": 1,
   "metadata": {},
   "outputs": [],
   "source": [
    "# back up for the 1st data mite project"
   ]
  },
  {
   "cell_type": "code",
   "execution_count": null,
   "metadata": {},
   "outputs": [],
   "source": [
    "from sklearn.neighbors import KNeighborsClassifier\n",
    "\n",
    "knn_model = KNeighborsClassifier()\n",
    "knn_model.fit(X_train, y_train)\n",
    "y_pred_knn = knn_model.predict(X_test)\n",
    "y_pred_proba_knn = knn_model.predict_proba(X_test)[:, 1]\n",
    "\n",
    "print(\"KNN Classification Report:\\n\", classification_report(y_test, y_pred_knn))\n",
    "print(\"Confusion Matrix:\\n\", confusion_matrix(y_test, y_pred_knn))\n",
    "print(\"Accuracy Score:\", accuracy_score(y_test, y_pred_knn))\n",
    "print(\"ROC AUC Score:\", roc_auc_score(y_test, y_pred_proba_knn))"
   ]
  },
  {
   "cell_type": "code",
   "execution_count": null,
   "metadata": {},
   "outputs": [],
   "source": [
    "from xgboost import XGBClassifier\n",
    "\n",
    "xgb_model = XGBClassifier(random_state=42)\n",
    "xgb_model.fit(X_train, y_train)\n",
    "y_pred_xgb = xgb_model.predict(X_test)\n",
    "y_pred_proba_xgb = xgb_model.predict_proba(X_test)[:, 1]\n",
    "\n",
    "print(\"XGBoost Classification Report:\\n\", classification_report(y_test, y_pred_xgb))\n",
    "print(\"Confusion Matrix:\\n\", confusion_matrix(y_test, y_pred_xgb))\n",
    "print(\"Accuracy Score:\", accuracy_score(y_test, y_pred_xgb))\n",
    "print(\"ROC AUC Score:\", roc_auc_score(y_test, y_pred_proba_xgb))"
   ]
  },
  {
   "cell_type": "code",
   "execution_count": null,
   "metadata": {},
   "outputs": [],
   "source": [
    "!pip install xgboost"
   ]
  },
  {
   "cell_type": "code",
   "execution_count": null,
   "metadata": {},
   "outputs": [],
   "source": [
    "from sklearn.svm import SVC\n",
    "\n",
    "svm_model = SVC(probability=True, random_state=42)\n",
    "svm_model.fit(X_train, y_train)\n",
    "y_pred_svm = svm_model.predict(X_test)\n",
    "y_pred_proba_svm = svm_model.predict_proba(X_test)[:, 1]\n",
    "\n",
    "print(\"SVM Classification Report:\\n\", classification_report(y_test, y_pred_svm))\n",
    "print(\"Confusion Matrix:\\n\", confusion_matrix(y_test, y_pred_svm))\n",
    "print(\"Accuracy Score:\", accuracy_score(y_test, y_pred_svm))\n",
    "print(\"ROC AUC Score:\", roc_auc_score(y_test, y_pred_proba_svm))"
   ]
  },
  {
   "cell_type": "code",
   "execution_count": null,
   "metadata": {},
   "outputs": [],
   "source": [
    "from sklearn.ensemble import GradientBoostingClassifier\n",
    "\n",
    "gb_model = GradientBoostingClassifier(random_state=42)\n",
    "gb_model.fit(X_train, y_train)\n",
    "y_pred_gb = gb_model.predict(X_test)\n",
    "y_pred_proba_gb = gb_model.predict_proba(X_test)[:, 1]\n",
    "\n",
    "print(\"Gradient Boosting Classification Report:\\n\", classification_report(y_test, y_pred_gb))\n",
    "print(\"Confusion Matrix:\\n\", confusion_matrix(y_test, y_pred_gb))\n",
    "print(\"Accuracy Score:\", accuracy_score(y_test, y_pred_gb))\n",
    "print(\"ROC AUC Score:\", roc_auc_score(y_test, y_pred_proba_gb))"
   ]
  },
  {
   "cell_type": "code",
   "execution_count": null,
   "metadata": {},
   "outputs": [],
   "source": [
    "from sklearn.ensemble import RandomForestClassifier\n",
    "\n",
    "rf_model = RandomForestClassifier(random_state=42)\n",
    "rf_model.fit(X_train, y_train)\n",
    "y_pred_rf = rf_model.predict(X_test)\n",
    "y_pred_proba_rf = rf_model.predict_proba(X_test)[:, 1]\n",
    "\n",
    "print(\"Random Forest Classification Report:\\n\", classification_report(y_test, y_pred_rf))\n",
    "print(\"Confusion Matrix:\\n\", confusion_matrix(y_test, y_pred_rf))\n",
    "print(\"Accuracy Score:\", accuracy_score(y_test, y_pred_rf))\n",
    "print(\"ROC AUC Score:\", roc_auc_score(y_test, y_pred_proba_rf))"
   ]
  },
  {
   "cell_type": "code",
   "execution_count": null,
   "metadata": {},
   "outputs": [],
   "source": [
    "# Refined feature selection based on correlation and domain knowledge\n",
    "selected_features = ['chest_pain_type_4', 'num_major_vessels',\n",
    "                     'exercise_induced_angina', 'oldpeak_eq_st_depression']\n",
    "\n",
    "X = df_val[selected_features]\n",
    "y = df_lab['heart_disease_present']\n",
    "\n",
    "# Standardize the features\n",
    "scaler = StandardScaler()\n",
    "X_scaled = scaler.fit_transform(X)\n",
    "\n",
    "# Handle class imbalance with SMOTE\n",
    "smote = SMOTE(random_state=42)\n",
    "X_res, y_res = smote.fit_resample(X_scaled, y)\n",
    "\n",
    "# Split the data into training and testing sets\n",
    "X_train, X_test, y_train, y_test = train_test_split(X_res, y_res, test_size=0.2, random_state=42)\n",
    "\n",
    "# Build the Logistic Regression Model\n",
    "model = LogisticRegression(random_state=42)\n",
    "model.fit(X_train, y_train)\n",
    "\n",
    "# Make predictions\n",
    "y_pred = model.predict(X_test)\n",
    "y_pred_proba = model.predict_proba(X_test)[:, 1]\n",
    "\n",
    "# Evaluate the model\n",
    "print(\"Classification Report:\\n\", classification_report(y_test, y_pred))\n",
    "print(\"Confusion Matrix:\\n\", confusion_matrix(y_test, y_pred))\n",
    "print(\"Accuracy Score:\", accuracy_score(y_test, y_pred))\n",
    "print(\"ROC AUC Score:\", roc_auc_score(y_test, y_pred_proba))\n",
    "\n",
    "# Plot ROC Curve\n",
    "fpr, tpr, thresholds = roc_curve(y_test, y_pred_proba)\n",
    "plt.figure(figsize=(8, 6))\n",
    "plt.plot(fpr, tpr, label='ROC Curve (area = %0.2f)' % roc_auc_score(y_test, y_pred_proba))\n",
    "plt.plot([0, 1], [0, 1], 'k--')\n",
    "plt.xlabel('False Positive Rate')\n",
    "plt.ylabel('True Positive Rate')\n",
    "plt.title('ROC Curve')\n",
    "plt.legend(loc='lower right')\n",
    "plt.show()"
   ]
  },
  {
   "cell_type": "code",
   "execution_count": null,
   "metadata": {},
   "outputs": [],
   "source": [
    "# import pandas as pd\n",
    "# from sklearn.model_selection import train_test_split, GridSearchCV, RandomizedSearchCV, cross_val_score\n",
    "# from sklearn.preprocessing import StandardScaler, LabelEncoder, OneHotEncoder\n",
    "# from sklearn.linear_model import LogisticRegression\n",
    "# from sklearn.tree import DecisionTreeClassifier\n",
    "# from sklearn.ensemble import RandomForestClassifier, GradientBoostingClassifier, StackingClassifier\n",
    "# from sklearn.svm import SVC\n",
    "# from sklearn.metrics import accuracy_score, precision_score, recall_score, f1_score, roc_auc_score\n",
    "# from imblearn.over_sampling import SMOTE\n",
    "\n",
    "# # Assuming your data is in a DataFrame named 'df'\n",
    "\n",
    "# # Feature engineering (example)\n",
    "# df['combined_feature'] = df['resting_blood_pressure'] * df['max_heart_rate_achieved']\n",
    "\n",
    "# # Check for column existence (consider adding more columns if needed)\n",
    "# categorical_cols = ['resting_ekg_results', 'thal', 'chest_pain_type_2', 'chest_pain_type_3', 'chest_pain_type_4']\n",
    "# if all(col in df.columns for col in categorical_cols):\n",
    "#   encoder = OneHotEncoder()\n",
    "#   X_encoded = encoder.fit_transform(df[categorical_cols])\n",
    "#   X = pd.concat([X, pd.DataFrame(X_encoded.toarray(), columns=encoder.get_feature_names_out())], axis=1)\n",
    "# else:\n",
    "#   # Handle missing columns (e.g., print a message or remove them)\n",
    "#   missing_cols = [col for col in categorical_cols if col not in df.columns]\n",
    "#   print(f\"Error: Columns {', '.join(missing_cols)} not found in DataFrame. Please check column names or handle missing data.\")\n",
    "#   exit()  # or continue with appropriate handling (e.g., remove missing columns)\n",
    "\n",
    "# # Split data into training and testing sets\n",
    "# X_train, X_test, y_train, y_test = train_test_split(X, y, test_size=0.2, random_state=42)\n",
    "\n",
    "# # Class imbalance handling\n",
    "# smote = SMOTE(random_state=42)\n",
    "# X_resampled, y_resampled = smote.fit_resample(X_train, y_train)\n",
    "\n",
    "# # Hyperparameter tuning (example using GridSearchCV)\n",
    "# param_grid = {\n",
    "#     'RandomForestClassifier': {'n_estimators': [100, 200, 300], 'max_depth': [None, 5, 10]},\n",
    "#     'LogisticRegression': {'C': [0.001, 0.01, 0.1, 1, 10]},\n",
    "#     'SVC': {'C': [0.001, 0.01, 0.1, 1, 10], 'kernel': ['linear', 'rbf']},\n",
    "#     'DecisionTreeClassifier': {'max_depth': [None, 2, 4, 6, 8]},\n",
    "#     'GradientBoostingClassifier': {'n_estimators': [100, 200, 300], 'learning_rate': [0.1, 0.05, 0.01]}\n",
    "# }\n",
    "\n",
    "# best_models = {}\n",
    "# for model_name, model in param_grid.items():\n",
    "#     grid_search = GridSearchCV(model, param_grid=model, cv=5, scoring='f1')\n",
    "#     grid_search.fit(X_resampled, y_resampled)\n",
    "#     best_models[model_name] = grid_search.best_estimator_\n",
    "\n",
    "# # Model selection and evaluation\n",
    "# for model_name, model in best_models.items():\n",
    "#     y_pred = model.predict(X_test)\n",
    "\n",
    "#     accuracy = accuracy_score(y_test, y_pred)\n",
    "#     precision = precision_score(y_test, y_pred)\n",
    "#     recall = recall_score(y_test, y_pred)\n",
    "#     f1 = f1_score(y_test, y_pred)\n",
    "#     roc_auc = roc_auc_score(y_test, y_pred)\n",
    "\n",
    "#     print(f\"{model_name}:\")\n",
    "#     print(f\"Accuracy: {accuracy:.2f}\")\n",
    "#     print(f\"Precision: {precision:.2f}\")\n",
    "#     print(f\"Recall: {recall:.2f}\")\n",
    "#     print(f\"F1-score: {f1:.2f}\")\n",
    "#     print(f\"ROC AUC: {roc_auc:.2f}\")\n",
    "#     print()"
   ]
  },
  {
   "cell_type": "code",
   "execution_count": null,
   "metadata": {},
   "outputs": [],
   "source": [
    "for col in df:\n",
    "    print(f\"Mode for {col}: {df[col].mode()[0]}\")\n",
    "    print(f\"Value Counts for {col}:\\n{df[col].value_counts()}\\n\")"
   ]
  },
  {
   "cell_type": "code",
   "execution_count": null,
   "metadata": {},
   "outputs": [],
   "source": [
    "df.count()"
   ]
  }
 ],
 "metadata": {
  "kernelspec": {
   "display_name": "Python 3",
   "language": "python",
   "name": "python3"
  },
  "language_info": {
   "codemirror_mode": {
    "name": "ipython",
    "version": 3
   },
   "file_extension": ".py",
   "mimetype": "text/x-python",
   "name": "python",
   "nbconvert_exporter": "python",
   "pygments_lexer": "ipython3",
   "version": "3.9.0"
  }
 },
 "nbformat": 4,
 "nbformat_minor": 2
}
