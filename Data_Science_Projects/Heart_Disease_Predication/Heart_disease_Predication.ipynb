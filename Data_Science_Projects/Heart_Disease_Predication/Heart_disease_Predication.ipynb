{
 "cells": [
  {
   "cell_type": "code",
   "execution_count": 30,
   "metadata": {},
   "outputs": [
    {
     "name": "stdout",
     "output_type": "stream",
     "text": [
      "Requirement already satisfied: pandas in c:\\users\\user\\python39\\lib\\site-packages (2.2.2)\n",
      "Requirement already satisfied: tzdata>=2022.7 in c:\\users\\user\\python39\\lib\\site-packages (from pandas) (2024.1)\n",
      "Requirement already satisfied: pytz>=2020.1 in c:\\users\\user\\python39\\lib\\site-packages (from pandas) (2024.1)\n",
      "Requirement already satisfied: numpy>=1.22.4; python_version < \"3.11\" in c:\\users\\user\\python39\\lib\\site-packages (from pandas) (2.0.1)\n",
      "Requirement already satisfied: python-dateutil>=2.8.2 in c:\\users\\user\\appdata\\roaming\\python\\python39\\site-packages (from pandas) (2.9.0.post0)\n",
      "Requirement already satisfied: six>=1.5 in c:\\users\\user\\appdata\\roaming\\python\\python39\\site-packages (from python-dateutil>=2.8.2->pandas) (1.15.0)\n"
     ]
    },
    {
     "name": "stderr",
     "output_type": "stream",
     "text": [
      "WARNING: You are using pip version 20.2.3; however, version 24.2 is available.\n",
      "You should consider upgrading via the 'c:\\users\\user\\python39\\python.exe -m pip install --upgrade pip' command.\n"
     ]
    },
    {
     "name": "stdout",
     "output_type": "stream",
     "text": [
      "Requirement already satisfied: numpy in c:\\users\\user\\python39\\lib\\site-packages (2.0.1)\n"
     ]
    },
    {
     "name": "stderr",
     "output_type": "stream",
     "text": [
      "WARNING: You are using pip version 20.2.3; however, version 24.2 is available.\n",
      "You should consider upgrading via the 'c:\\users\\user\\python39\\python.exe -m pip install --upgrade pip' command.\n",
      "ERROR: Could not find a version that satisfies the requirement matplotlib.pyplot (from versions: none)\n",
      "ERROR: No matching distribution found for matplotlib.pyplot\n",
      "WARNING: You are using pip version 20.2.3; however, version 24.2 is available.\n",
      "You should consider upgrading via the 'c:\\users\\user\\python39\\python.exe -m pip install --upgrade pip' command.\n"
     ]
    },
    {
     "name": "stdout",
     "output_type": "stream",
     "text": [
      "Requirement already satisfied: seaborn in c:\\users\\user\\python39\\lib\\site-packages (0.13.2)\n",
      "Requirement already satisfied: numpy!=1.24.0,>=1.20 in c:\\users\\user\\python39\\lib\\site-packages (from seaborn) (2.0.1)\n",
      "Requirement already satisfied: pandas>=1.2 in c:\\users\\user\\python39\\lib\\site-packages (from seaborn) (2.2.2)\n",
      "Requirement already satisfied: matplotlib!=3.6.1,>=3.4 in c:\\users\\user\\python39\\lib\\site-packages (from seaborn) (3.9.2)\n",
      "Requirement already satisfied: python-dateutil>=2.8.2 in c:\\users\\user\\appdata\\roaming\\python\\python39\\site-packages (from pandas>=1.2->seaborn) (2.9.0.post0)\n",
      "Requirement already satisfied: pytz>=2020.1 in c:\\users\\user\\python39\\lib\\site-packages (from pandas>=1.2->seaborn) (2024.1)\n",
      "Requirement already satisfied: tzdata>=2022.7 in c:\\users\\user\\python39\\lib\\site-packages (from pandas>=1.2->seaborn) (2024.1)\n",
      "Requirement already satisfied: contourpy>=1.0.1 in c:\\users\\user\\python39\\lib\\site-packages (from matplotlib!=3.6.1,>=3.4->seaborn) (1.2.1)\n",
      "Requirement already satisfied: packaging>=20.0 in c:\\users\\user\\python39\\lib\\site-packages (from matplotlib!=3.6.1,>=3.4->seaborn) (23.2)\n",
      "Requirement already satisfied: fonttools>=4.22.0 in c:\\users\\user\\python39\\lib\\site-packages (from matplotlib!=3.6.1,>=3.4->seaborn) (4.53.1)\n",
      "Requirement already satisfied: kiwisolver>=1.3.1 in c:\\users\\user\\python39\\lib\\site-packages (from matplotlib!=3.6.1,>=3.4->seaborn) (1.4.5)\n",
      "Requirement already satisfied: pillow>=8 in c:\\users\\user\\python39\\lib\\site-packages (from matplotlib!=3.6.1,>=3.4->seaborn) (10.2.0)\n",
      "Requirement already satisfied: pyparsing>=2.3.1 in c:\\users\\user\\python39\\lib\\site-packages (from matplotlib!=3.6.1,>=3.4->seaborn) (3.1.2)\n",
      "Requirement already satisfied: importlib-resources>=3.2.0; python_version < \"3.10\" in c:\\users\\user\\python39\\lib\\site-packages (from matplotlib!=3.6.1,>=3.4->seaborn) (6.4.3)\n",
      "Requirement already satisfied: cycler>=0.10 in c:\\users\\user\\python39\\lib\\site-packages (from matplotlib!=3.6.1,>=3.4->seaborn) (0.12.1)\n",
      "Requirement already satisfied: six>=1.5 in c:\\users\\user\\appdata\\roaming\\python\\python39\\site-packages (from python-dateutil>=2.8.2->pandas>=1.2->seaborn) (1.15.0)\n",
      "Requirement already satisfied: zipp>=3.1.0; python_version < \"3.10\" in c:\\users\\user\\appdata\\roaming\\python\\python39\\site-packages (from importlib-resources>=3.2.0; python_version < \"3.10\"->matplotlib!=3.6.1,>=3.4->seaborn) (3.18.1)\n"
     ]
    },
    {
     "name": "stderr",
     "output_type": "stream",
     "text": [
      "WARNING: You are using pip version 20.2.3; however, version 24.2 is available.\n",
      "You should consider upgrading via the 'c:\\users\\user\\python39\\python.exe -m pip install --upgrade pip' command.\n",
      "ERROR: Could not find a version that satisfies the requirement warnings (from versions: none)\n",
      "ERROR: No matching distribution found for warnings\n",
      "WARNING: You are using pip version 20.2.3; however, version 24.2 is available.\n",
      "You should consider upgrading via the 'c:\\users\\user\\python39\\python.exe -m pip install --upgrade pip' command.\n"
     ]
    },
    {
     "name": "stdout",
     "output_type": "stream",
     "text": [
      "Requirement already satisfied: scikit-learn in c:\\users\\user\\python39\\lib\\site-packages (1.5.1)\n",
      "Requirement already satisfied: threadpoolctl>=3.1.0 in c:\\users\\user\\python39\\lib\\site-packages (from scikit-learn) (3.5.0)\n",
      "Requirement already satisfied: numpy>=1.19.5 in c:\\users\\user\\python39\\lib\\site-packages (from scikit-learn) (2.0.1)\n",
      "Requirement already satisfied: scipy>=1.6.0 in c:\\users\\user\\python39\\lib\\site-packages (from scikit-learn) (1.13.1)\n",
      "Requirement already satisfied: joblib>=1.2.0 in c:\\users\\user\\python39\\lib\\site-packages (from scikit-learn) (1.4.2)\n"
     ]
    },
    {
     "name": "stderr",
     "output_type": "stream",
     "text": [
      "WARNING: You are using pip version 20.2.3; however, version 24.2 is available.\n",
      "You should consider upgrading via the 'c:\\users\\user\\python39\\python.exe -m pip install --upgrade pip' command.\n"
     ]
    },
    {
     "name": "stdout",
     "output_type": "stream",
     "text": [
      "Collecting imblearn\n",
      "  Downloading imblearn-0.0-py2.py3-none-any.whl (1.9 kB)\n",
      "Collecting imbalanced-learn\n",
      "  Downloading imbalanced_learn-0.12.3-py3-none-any.whl (258 kB)\n",
      "Requirement already satisfied: scipy>=1.5.0 in c:\\users\\user\\python39\\lib\\site-packages (from imbalanced-learn->imblearn) (1.13.1)\n",
      "Requirement already satisfied: scikit-learn>=1.0.2 in c:\\users\\user\\python39\\lib\\site-packages (from imbalanced-learn->imblearn) (1.5.1)\n",
      "Requirement already satisfied: numpy>=1.17.3 in c:\\users\\user\\python39\\lib\\site-packages (from imbalanced-learn->imblearn) (2.0.1)\n",
      "Requirement already satisfied: threadpoolctl>=2.0.0 in c:\\users\\user\\python39\\lib\\site-packages (from imbalanced-learn->imblearn) (3.5.0)\n",
      "Requirement already satisfied: joblib>=1.1.1 in c:\\users\\user\\python39\\lib\\site-packages (from imbalanced-learn->imblearn) (1.4.2)\n",
      "Installing collected packages: imbalanced-learn, imblearn\n",
      "Successfully installed imbalanced-learn-0.12.3 imblearn-0.0\n"
     ]
    },
    {
     "name": "stderr",
     "output_type": "stream",
     "text": [
      "WARNING: You are using pip version 20.2.3; however, version 24.2 is available.\n",
      "You should consider upgrading via the 'c:\\users\\user\\python39\\python.exe -m pip install --upgrade pip' command.\n"
     ]
    }
   ],
   "source": [
    "!pip install pandas\n",
    "!pip install numpy\n",
    "!pip install matplotlib.pyplot\n",
    "!pip install seaborn\n",
    "!pip install warnings\n",
    "!pip install scikit-learn\n",
    "!pip install imblearn"
   ]
  },
  {
   "cell_type": "code",
   "execution_count": 4,
   "metadata": {},
   "outputs": [],
   "source": [
    "# importting Libraries\n",
    "import pandas as pd\n",
    "import numpy as np\n",
    "import matplotlib.pyplot as plt\n",
    "import seaborn as sns\n",
    "import warnings as wr\n",
    "wr.filterwarnings('ignore')\n",
    "from sklearn.preprocessing import StandardScaler, OneHotEncoder, LabelEncoder\n",
    "from scipy.stats import boxcox"
   ]
  },
  {
   "cell_type": "code",
   "execution_count": 32,
   "metadata": {},
   "outputs": [],
   "source": [
    "df_lab = pd.read_csv(r\"speciy/the/path\")\n",
    "df_val = pd.read_csv(r\"speciy/the/path\")"
   ]
  },
  {
   "cell_type": "code",
   "execution_count": 6,
   "metadata": {},
   "outputs": [
    {
     "data": {
      "text/html": [
       "<div>\n",
       "<style scoped>\n",
       "    .dataframe tbody tr th:only-of-type {\n",
       "        vertical-align: middle;\n",
       "    }\n",
       "\n",
       "    .dataframe tbody tr th {\n",
       "        vertical-align: top;\n",
       "    }\n",
       "\n",
       "    .dataframe thead th {\n",
       "        text-align: right;\n",
       "    }\n",
       "</style>\n",
       "<table border=\"1\" class=\"dataframe\">\n",
       "  <thead>\n",
       "    <tr style=\"text-align: right;\">\n",
       "      <th></th>\n",
       "      <th>patient_id</th>\n",
       "      <th>heart_disease_present</th>\n",
       "    </tr>\n",
       "  </thead>\n",
       "  <tbody>\n",
       "    <tr>\n",
       "      <th>0</th>\n",
       "      <td>0z64un</td>\n",
       "      <td>0</td>\n",
       "    </tr>\n",
       "    <tr>\n",
       "      <th>1</th>\n",
       "      <td>ryoo3j</td>\n",
       "      <td>0</td>\n",
       "    </tr>\n",
       "    <tr>\n",
       "      <th>2</th>\n",
       "      <td>yt1s1x</td>\n",
       "      <td>1</td>\n",
       "    </tr>\n",
       "    <tr>\n",
       "      <th>3</th>\n",
       "      <td>l2xjde</td>\n",
       "      <td>1</td>\n",
       "    </tr>\n",
       "    <tr>\n",
       "      <th>4</th>\n",
       "      <td>oyt4ek</td>\n",
       "      <td>0</td>\n",
       "    </tr>\n",
       "  </tbody>\n",
       "</table>\n",
       "</div>"
      ],
      "text/plain": [
       "  patient_id  heart_disease_present\n",
       "0     0z64un                      0\n",
       "1     ryoo3j                      0\n",
       "2     yt1s1x                      1\n",
       "3     l2xjde                      1\n",
       "4     oyt4ek                      0"
      ]
     },
     "execution_count": 6,
     "metadata": {},
     "output_type": "execute_result"
    }
   ],
   "source": [
    "df_lab.head()"
   ]
  },
  {
   "cell_type": "code",
   "execution_count": 7,
   "metadata": {},
   "outputs": [
    {
     "data": {
      "text/html": [
       "<div>\n",
       "<style scoped>\n",
       "    .dataframe tbody tr th:only-of-type {\n",
       "        vertical-align: middle;\n",
       "    }\n",
       "\n",
       "    .dataframe tbody tr th {\n",
       "        vertical-align: top;\n",
       "    }\n",
       "\n",
       "    .dataframe thead th {\n",
       "        text-align: right;\n",
       "    }\n",
       "</style>\n",
       "<table border=\"1\" class=\"dataframe\">\n",
       "  <thead>\n",
       "    <tr style=\"text-align: right;\">\n",
       "      <th></th>\n",
       "      <th>patient_id</th>\n",
       "      <th>slope_of_peak_exercise_st_segment</th>\n",
       "      <th>thal</th>\n",
       "      <th>resting_blood_pressure</th>\n",
       "      <th>chest_pain_type</th>\n",
       "      <th>num_major_vessels</th>\n",
       "      <th>fasting_blood_sugar_gt_120_mg_per_dl</th>\n",
       "      <th>resting_ekg_results</th>\n",
       "      <th>serum_cholesterol_mg_per_dl</th>\n",
       "      <th>oldpeak_eq_st_depression</th>\n",
       "      <th>sex</th>\n",
       "      <th>age</th>\n",
       "      <th>max_heart_rate_achieved</th>\n",
       "      <th>exercise_induced_angina</th>\n",
       "    </tr>\n",
       "  </thead>\n",
       "  <tbody>\n",
       "    <tr>\n",
       "      <th>0</th>\n",
       "      <td>0z64un</td>\n",
       "      <td>1</td>\n",
       "      <td>normal</td>\n",
       "      <td>128</td>\n",
       "      <td>2</td>\n",
       "      <td>0</td>\n",
       "      <td>0</td>\n",
       "      <td>2</td>\n",
       "      <td>308</td>\n",
       "      <td>0.0</td>\n",
       "      <td>1</td>\n",
       "      <td>45</td>\n",
       "      <td>170</td>\n",
       "      <td>0</td>\n",
       "    </tr>\n",
       "    <tr>\n",
       "      <th>1</th>\n",
       "      <td>ryoo3j</td>\n",
       "      <td>2</td>\n",
       "      <td>normal</td>\n",
       "      <td>110</td>\n",
       "      <td>3</td>\n",
       "      <td>0</td>\n",
       "      <td>0</td>\n",
       "      <td>0</td>\n",
       "      <td>214</td>\n",
       "      <td>1.6</td>\n",
       "      <td>0</td>\n",
       "      <td>54</td>\n",
       "      <td>158</td>\n",
       "      <td>0</td>\n",
       "    </tr>\n",
       "    <tr>\n",
       "      <th>2</th>\n",
       "      <td>yt1s1x</td>\n",
       "      <td>1</td>\n",
       "      <td>normal</td>\n",
       "      <td>125</td>\n",
       "      <td>4</td>\n",
       "      <td>3</td>\n",
       "      <td>0</td>\n",
       "      <td>2</td>\n",
       "      <td>304</td>\n",
       "      <td>0.0</td>\n",
       "      <td>1</td>\n",
       "      <td>77</td>\n",
       "      <td>162</td>\n",
       "      <td>1</td>\n",
       "    </tr>\n",
       "    <tr>\n",
       "      <th>3</th>\n",
       "      <td>l2xjde</td>\n",
       "      <td>1</td>\n",
       "      <td>reversible_defect</td>\n",
       "      <td>152</td>\n",
       "      <td>4</td>\n",
       "      <td>0</td>\n",
       "      <td>0</td>\n",
       "      <td>0</td>\n",
       "      <td>223</td>\n",
       "      <td>0.0</td>\n",
       "      <td>1</td>\n",
       "      <td>40</td>\n",
       "      <td>181</td>\n",
       "      <td>0</td>\n",
       "    </tr>\n",
       "    <tr>\n",
       "      <th>4</th>\n",
       "      <td>oyt4ek</td>\n",
       "      <td>3</td>\n",
       "      <td>reversible_defect</td>\n",
       "      <td>178</td>\n",
       "      <td>1</td>\n",
       "      <td>0</td>\n",
       "      <td>0</td>\n",
       "      <td>2</td>\n",
       "      <td>270</td>\n",
       "      <td>4.2</td>\n",
       "      <td>1</td>\n",
       "      <td>59</td>\n",
       "      <td>145</td>\n",
       "      <td>0</td>\n",
       "    </tr>\n",
       "  </tbody>\n",
       "</table>\n",
       "</div>"
      ],
      "text/plain": [
       "  patient_id  slope_of_peak_exercise_st_segment               thal  \\\n",
       "0     0z64un                                  1             normal   \n",
       "1     ryoo3j                                  2             normal   \n",
       "2     yt1s1x                                  1             normal   \n",
       "3     l2xjde                                  1  reversible_defect   \n",
       "4     oyt4ek                                  3  reversible_defect   \n",
       "\n",
       "   resting_blood_pressure  chest_pain_type  num_major_vessels  \\\n",
       "0                     128                2                  0   \n",
       "1                     110                3                  0   \n",
       "2                     125                4                  3   \n",
       "3                     152                4                  0   \n",
       "4                     178                1                  0   \n",
       "\n",
       "   fasting_blood_sugar_gt_120_mg_per_dl  resting_ekg_results  \\\n",
       "0                                     0                    2   \n",
       "1                                     0                    0   \n",
       "2                                     0                    2   \n",
       "3                                     0                    0   \n",
       "4                                     0                    2   \n",
       "\n",
       "   serum_cholesterol_mg_per_dl  oldpeak_eq_st_depression  sex  age  \\\n",
       "0                          308                       0.0    1   45   \n",
       "1                          214                       1.6    0   54   \n",
       "2                          304                       0.0    1   77   \n",
       "3                          223                       0.0    1   40   \n",
       "4                          270                       4.2    1   59   \n",
       "\n",
       "   max_heart_rate_achieved  exercise_induced_angina  \n",
       "0                      170                        0  \n",
       "1                      158                        0  \n",
       "2                      162                        1  \n",
       "3                      181                        0  \n",
       "4                      145                        0  "
      ]
     },
     "execution_count": 7,
     "metadata": {},
     "output_type": "execute_result"
    }
   ],
   "source": [
    "df_val.head()"
   ]
  },
  {
   "cell_type": "markdown",
   "metadata": {},
   "source": [
    "### The ECG cycle\n",
    "In an electrocardiogram (ECG or EKG), the heart's electrical activity is recorded over time. The ECG waveform consists of different segments and waves, each representing specific electrical events during the cardiac cycle. Here's a breakdown of the main waves and segments:\n",
    "\n",
    "### 1. **P Wave**\n",
    "   - **Description:** The P wave represents the depolarization of the atria, the two upper chambers of the heart.\n",
    "   - **Relevance:** The P wave indicates the initiation of the heartbeat. A normal P wave is small and rounded. Abnormalities in the P wave can suggest issues like atrial enlargement or atrial fibrillation.\n",
    "\n",
    "### 2. **QRS Complex**\n",
    "   - **Description:** The QRS complex represents the depolarization of the ventricles, the two lower chambers of the heart. It consists of three parts:\n",
    "     - **Q Wave:** The initial downward deflection following the P wave.\n",
    "     - **R Wave:** The large upward deflection following the Q wave.\n",
    "     - **S Wave:** The downward deflection following the R wave.\n",
    "   - **Relevance:** The QRS complex indicates the electrical impulse traveling through the ventricles, leading to their contraction. A normal QRS complex is narrow and tall. A wide or abnormal QRS complex can indicate issues like bundle branch blocks or ventricular hypertrophy.\n",
    "\n",
    "### 3. **T Wave**\n",
    "   - **Description:** The T wave represents the repolarization (recovery) of the ventricles after they have contracted.\n",
    "   - **Relevance:** The T wave shows the ventricles returning to their resting state. An inverted T wave or abnormal T wave shape can suggest conditions like ischemia (reduced blood flow) or electrolyte imbalances.\n",
    "\n",
    "### 4. **U Wave**\n",
    "   - **Description:** The U wave is a small wave that sometimes follows the T wave. Its exact origin is unclear, but it is thought to represent the repolarization of the Purkinje fibers (part of the heart's electrical conduction system).\n",
    "   - **Relevance:** The U wave is often small and not always present. However, a prominent U wave may indicate conditions like hypokalemia (low potassium levels) or hypercalcemia (high calcium levels).\n",
    "\n",
    "### 5. **ST Segment**\n",
    "   - **Description:** The ST segment is the flat, isoelectric section of the ECG between the end of the S wave and the beginning of the T wave.\n",
    "   - **Relevance:** The ST segment represents the period when the ventricles are fully depolarized and are beginning to repolarize. The normal ST segment should be flat and level with the baseline. Deviations from the baseline (elevation or depression) can indicate serious conditions:\n",
    "     - **ST Elevation:** Often indicates acute myocardial infarction (heart attack) or pericarditis.\n",
    "     - **ST Depression:** Can indicate ischemia or the presence of a non-ST-elevation myocardial infarction (NSTEMI).\n",
    "\n",
    "### 6. **PR Interval**\n",
    "   - **Description:** The PR interval is the time from the start of the P wave to the start of the QRS complex.\n",
    "   - **Relevance:** The PR interval represents the time it takes for the electrical impulse to travel from the atria to the ventricles. A prolonged PR interval can suggest first-degree heart block, while a short PR interval can indicate pre-excitation syndromes like Wolff-Parkinson-White syndrome.\n",
    "\n",
    "### 7. **QT Interval**\n",
    "   - **Description:** The QT interval extends from the start of the Q wave to the end of the T wave.\n",
    "   - **Relevance:** The QT interval represents the total time for ventricular depolarization and repolarization. A prolonged QT interval can increase the risk of arrhythmias, such as Torsades de Pointes. Shortened QT intervals can indicate hypercalcemia.\n",
    "\n",
    "### 8. **RR Interval**\n",
    "   - **Description:** The RR interval is the time between two successive R waves.\n",
    "   - **Relevance:** The RR interval is used to calculate the heart rate. A shorter RR interval indicates a faster heart rate, while a longer interval indicates a slower heart rate.\n",
    "\n",
    "### Summary\n",
    "- **P Wave:** Atrial depolarization.\n",
    "- **QRS Complex:** Ventricular depolarization.\n",
    "- **T Wave:** Ventricular repolarization.\n",
    "- **U Wave:** Purkinje fiber repolarization (sometimes visible).\n",
    "- **ST Segment:** Ventricular depolarization (early repolarization).\n",
    "- **PR Interval:** Atrial depolarization to ventricular depolarization.\n",
    "- **QT Interval:** Entire process of ventricular depolarization and repolarization.\n",
    "- **RR Interval:** Interval between heartbeats, used to measure heart rate.\n",
    "\n",
    "Understanding these waves and intervals is crucial in interpreting ECGs and diagnosing various cardiac conditions."
   ]
  },
  {
   "cell_type": "markdown",
   "metadata": {},
   "source": [
    "Let's break down each feature in the dataset to understand what it represents and its relevance to heart disease prediction:\n",
    "\n",
    "### 1. **patient_id (type: int)**\n",
    "   - **Description:** A unique and random identifier assigned to each patient.\n",
    "   - **Relevance:** This column is not used in the analysis or modeling as it doesn't contain any medical information relevant to heart disease prediction. It simply serves as an identifier for each record.\n",
    "\n",
    "### 2. **slope_of_peak_exercise_st_segment (type: int)**\n",
    "   - **Description:** This represents the slope of the peak exercise ST segment, which is an electrocardiography (EKG/ECG) measurement. It indicates the heart's response to exercise and the quality of blood flow to the heart.\n",
    "   - **Relevance:** Abnormal slopes can indicate ischemia (reduced blood flow to the heart), which is a critical factor in diagnosing heart disease.\n",
    "\n",
    "### 3. **thal (type: categorical)**\n",
    "   - **Description:** This feature is the result of a thallium stress test, which measures how well blood flows to the heart muscle during exercise. The possible values are:\n",
    "     - **Normal:** Indicates normal blood flow.\n",
    "     - **Fixed Defect:** Indicates a region of the heart that is not receiving enough blood at rest and during exercise.\n",
    "     - **Reversible Defect:** Indicates a region of the heart that is not receiving enough blood during exercise but normal at rest.\n",
    "   - **Relevance:** The thallium stress test is a common diagnostic tool for assessing coronary artery disease, so this feature is directly relevant to predicting heart disease.\n",
    "\n",
    "### 4. **resting_blood_pressure (type: int)**\n",
    "   - **Description:** This is the patient's blood pressure (measured in mm Hg) when at rest.\n",
    "   - **Relevance:** High resting blood pressure is a significant risk factor for heart disease, as it can lead to the hardening and narrowing of arteries, which increases the risk of heart attack or stroke.\n",
    "\n",
    "### 5. **chest_pain_type (type: int)**\n",
    "   - **Description:** This indicates the type of chest pain experienced by the patient, with 4 possible values:\n",
    "     - **0:** Typical angina (chest pain related to reduced blood flow to the heart)\n",
    "     - **1:** Atypical angina\n",
    "     - **2:** Non-anginal pain\n",
    "     - **3:** Asymptomatic\n",
    "   - **Relevance:** Chest pain, especially typical angina, is a common symptom of coronary artery disease, making this feature crucial for predicting heart disease.\n",
    "\n",
    "### 6. **num_major_vessels (type: int)**\n",
    "   - **Description:** The number of major vessels (ranging from 0 to 3) that are colored by fluoroscopy. Fluoroscopy is an imaging technique used to visualize the blood flow in the arteries.\n",
    "   - **Relevance:** The more vessels that are blocked or narrowed, the higher the risk of heart disease. This feature provides a direct measure of the extent of arterial blockage.\n",
    "\n",
    "### 7. **fasting_blood_sugar_gt_120_mg_per_dl (type: binary)**\n",
    "   - **Description:** Indicates whether the patient's fasting blood sugar level is greater than 120 mg/dl.\n",
    "     - **0:** Less than or equal to 120 mg/dl\n",
    "     - **1:** Greater than 120 mg/dl\n",
    "   - **Relevance:** High blood sugar levels are associated with diabetes, which is a significant risk factor for heart disease.\n",
    "\n",
    "### 8. **resting_ekg_results (type: int)**\n",
    "   - **Description:** This represents the results of a resting electrocardiogram (EKG/ECG), with possible values:\n",
    "     - **0:** Normal\n",
    "     - **1:** Having ST-T wave abnormality (e.g., T wave inversions and/or ST elevation or depression of > 0.05 mV)\n",
    "     - **2:** Showing probable or definite left ventricular hypertrophy by Estes' criteria\n",
    "   - **Relevance:** Abnormal EKG results can indicate underlying heart problems, such as ischemia or hypertrophy, which are linked to heart disease.\n",
    "\n",
    "### 9. **serum_cholesterol_mg_per_dl (type: int)**\n",
    "   - **Description:** The level of serum cholesterol in the blood, measured in mg/dl.\n",
    "   - **Relevance:** High cholesterol levels are a major risk factor for atherosclerosis (hardening and narrowing of the arteries), which can lead to heart disease.\n",
    "\n",
    "### 10. **oldpeak_eq_st_depression (type: float)**\n",
    "   - **Description:** This represents the amount of ST depression (a specific finding on an EKG) induced by exercise relative to rest.\n",
    "   - **Relevance:** ST depression is an indicator of ischemia during exercise, making it a valuable feature for assessing the risk of heart disease.\n",
    "\n",
    "### 11. **sex (type: binary)**\n",
    "   - **Description:** The gender of the patient.\n",
    "     - **0:** Female\n",
    "     - **1:** Male\n",
    "   - **Relevance:** Gender plays a role in the risk and presentation of heart disease, with males generally having a higher risk at younger ages compared to females.\n",
    "\n",
    "### 12. **age (type: int)**\n",
    "   - **Description:** The age of the patient in years.\n",
    "   - **Relevance:** Age is one of the most significant risk factors for heart disease, with risk increasing as people get older.\n",
    "\n",
    "### 13. **max_heart_rate_achieved (type: int)**\n",
    "   - **Description:** The maximum heart rate achieved by the patient during exercise.\n",
    "   - **Relevance:** A lower maximum heart rate can indicate poor cardiovascular fitness and is often associated with a higher risk of heart disease.\n",
    "\n",
    "### 14. **exercise_induced_angina (type: binary)**\n",
    "   - **Description:** Indicates whether the patient experiences angina (chest pain) induced by exercise.\n",
    "     - **0:** No\n",
    "     - **1:** Yes\n",
    "   - **Relevance:** Exercise-induced angina is a strong indicator of underlying heart disease, as it suggests that the heart is not getting enough oxygen during physical activity.\n",
    "\n",
    "### Summary\n",
    "These features together provide a comprehensive set of variables that can be used to assess a patient’s risk for heart disease. The dataset includes clinical data, such as blood pressure, cholesterol levels, and results from EKG and stress tests, which are all critical in predicting heart conditions. Understanding these features is key to performing accurate analysis and building effective predictive models."
   ]
  },
  {
   "cell_type": "code",
   "execution_count": 8,
   "metadata": {},
   "outputs": [
    {
     "name": "stdout",
     "output_type": "stream",
     "text": [
      "(180, 14)\n",
      "(180, 2)\n"
     ]
    }
   ],
   "source": [
    "print(df_val.shape)\n",
    "print(df_lab.shape)"
   ]
  },
  {
   "cell_type": "code",
   "execution_count": 9,
   "metadata": {},
   "outputs": [
    {
     "name": "stdout",
     "output_type": "stream",
     "text": [
      "<class 'pandas.core.frame.DataFrame'>\n",
      "RangeIndex: 180 entries, 0 to 179\n",
      "Data columns (total 14 columns):\n",
      " #   Column                                Non-Null Count  Dtype  \n",
      "---  ------                                --------------  -----  \n",
      " 0   patient_id                            180 non-null    object \n",
      " 1   slope_of_peak_exercise_st_segment     180 non-null    int64  \n",
      " 2   thal                                  180 non-null    object \n",
      " 3   resting_blood_pressure                180 non-null    int64  \n",
      " 4   chest_pain_type                       180 non-null    int64  \n",
      " 5   num_major_vessels                     180 non-null    int64  \n",
      " 6   fasting_blood_sugar_gt_120_mg_per_dl  180 non-null    int64  \n",
      " 7   resting_ekg_results                   180 non-null    int64  \n",
      " 8   serum_cholesterol_mg_per_dl           180 non-null    int64  \n",
      " 9   oldpeak_eq_st_depression              180 non-null    float64\n",
      " 10  sex                                   180 non-null    int64  \n",
      " 11  age                                   180 non-null    int64  \n",
      " 12  max_heart_rate_achieved               180 non-null    int64  \n",
      " 13  exercise_induced_angina               180 non-null    int64  \n",
      "dtypes: float64(1), int64(11), object(2)\n",
      "memory usage: 19.8+ KB\n",
      "None\n",
      " The Info for label dataset\n",
      "<class 'pandas.core.frame.DataFrame'>\n",
      "RangeIndex: 180 entries, 0 to 179\n",
      "Data columns (total 2 columns):\n",
      " #   Column                 Non-Null Count  Dtype \n",
      "---  ------                 --------------  ----- \n",
      " 0   patient_id             180 non-null    object\n",
      " 1   heart_disease_present  180 non-null    int64 \n",
      "dtypes: int64(1), object(1)\n",
      "memory usage: 2.9+ KB\n",
      "None\n"
     ]
    }
   ],
   "source": [
    "\"\"\"info() facilitates comprehension of the data type and related information, such as the quantity of records in each column, \n",
    "whether the data is null or not, the type of data, and the dataset’s memory use.\"\"\"\n",
    "print(df_val.info())\n",
    "print(\" The Info for label dataset\")\n",
    "print(df_lab.info())"
   ]
  },
  {
   "cell_type": "code",
   "execution_count": 10,
   "metadata": {},
   "outputs": [
    {
     "name": "stdout",
     "output_type": "stream",
     "text": [
      "       heart_disease_present\n",
      "count             180.000000\n",
      "mean                0.444444\n",
      "std                 0.498290\n",
      "min                 0.000000\n",
      "25%                 0.000000\n",
      "50%                 0.000000\n",
      "75%                 1.000000\n",
      "max                 1.000000\n",
      "       slope_of_peak_exercise_st_segment  resting_blood_pressure  \\\n",
      "count                         180.000000              180.000000   \n",
      "mean                            1.550000              131.311111   \n",
      "std                             0.618838               17.010443   \n",
      "min                             1.000000               94.000000   \n",
      "25%                             1.000000              120.000000   \n",
      "50%                             1.000000              130.000000   \n",
      "75%                             2.000000              140.000000   \n",
      "max                             3.000000              180.000000   \n",
      "\n",
      "       chest_pain_type  num_major_vessels  \\\n",
      "count       180.000000         180.000000   \n",
      "mean          3.155556           0.694444   \n",
      "std           0.938454           0.969347   \n",
      "min           1.000000           0.000000   \n",
      "25%           3.000000           0.000000   \n",
      "50%           3.000000           0.000000   \n",
      "75%           4.000000           1.000000   \n",
      "max           4.000000           3.000000   \n",
      "\n",
      "       fasting_blood_sugar_gt_120_mg_per_dl  resting_ekg_results  \\\n",
      "count                            180.000000           180.000000   \n",
      "mean                               0.161111             1.050000   \n",
      "std                                0.368659             0.998742   \n",
      "min                                0.000000             0.000000   \n",
      "25%                                0.000000             0.000000   \n",
      "50%                                0.000000             2.000000   \n",
      "75%                                0.000000             2.000000   \n",
      "max                                1.000000             2.000000   \n",
      "\n",
      "       serum_cholesterol_mg_per_dl  oldpeak_eq_st_depression         sex  \\\n",
      "count                   180.000000                180.000000  180.000000   \n",
      "mean                    249.211111                  1.010000    0.688889   \n",
      "std                      52.717969                  1.121357    0.464239   \n",
      "min                     126.000000                  0.000000    0.000000   \n",
      "25%                     213.750000                  0.000000    0.000000   \n",
      "50%                     245.500000                  0.800000    1.000000   \n",
      "75%                     281.250000                  1.600000    1.000000   \n",
      "max                     564.000000                  6.200000    1.000000   \n",
      "\n",
      "              age  max_heart_rate_achieved  exercise_induced_angina  \n",
      "count  180.000000               180.000000               180.000000  \n",
      "mean    54.811111               149.483333                 0.316667  \n",
      "std      9.334737                22.063513                 0.466474  \n",
      "min     29.000000                96.000000                 0.000000  \n",
      "25%     48.000000               132.000000                 0.000000  \n",
      "50%     55.000000               152.000000                 0.000000  \n",
      "75%     62.000000               166.250000                 1.000000  \n",
      "max     77.000000               202.000000                 1.000000  \n"
     ]
    }
   ],
   "source": [
    "\"\"\"The DataFrame “df” is statistically summarized by the code df.describe(), which gives the count, mean, standard deviation, minimum, \n",
    "and quartiles for each numerical column.The dataset’s central tendencies and spread are briefly summarized.\"\"\"\n",
    "print(df_lab.describe())\n",
    "print(df_val.describe())"
   ]
  },
  {
   "cell_type": "code",
   "execution_count": 11,
   "metadata": {},
   "outputs": [
    {
     "name": "stdout",
     "output_type": "stream",
     "text": [
      "patient_id                              0\n",
      "slope_of_peak_exercise_st_segment       0\n",
      "thal                                    0\n",
      "resting_blood_pressure                  0\n",
      "chest_pain_type                         0\n",
      "num_major_vessels                       0\n",
      "fasting_blood_sugar_gt_120_mg_per_dl    0\n",
      "resting_ekg_results                     0\n",
      "serum_cholesterol_mg_per_dl             0\n",
      "oldpeak_eq_st_depression                0\n",
      "sex                                     0\n",
      "age                                     0\n",
      "max_heart_rate_achieved                 0\n",
      "exercise_induced_angina                 0\n",
      "dtype: int64\n",
      "patient_id               0\n",
      "heart_disease_present    0\n",
      "dtype: int64\n"
     ]
    }
   ],
   "source": [
    "\"\"\"The code df.isnull().sum() checks for missing values in each column of the DataFrame ‘df’ and returns the sum of null values for each column\"\"\"\n",
    "print(df_val.isnull().sum())\n",
    "print(df_lab.isnull().sum())"
   ]
  },
  {
   "cell_type": "code",
   "execution_count": 12,
   "metadata": {},
   "outputs": [
    {
     "name": "stdout",
     "output_type": "stream",
     "text": [
      "patient_id                              180\n",
      "slope_of_peak_exercise_st_segment         3\n",
      "thal                                      3\n",
      "resting_blood_pressure                   36\n",
      "chest_pain_type                           4\n",
      "num_major_vessels                         4\n",
      "fasting_blood_sugar_gt_120_mg_per_dl      2\n",
      "resting_ekg_results                       3\n",
      "serum_cholesterol_mg_per_dl             118\n",
      "oldpeak_eq_st_depression                 34\n",
      "sex                                       2\n",
      "age                                      40\n",
      "max_heart_rate_achieved                  73\n",
      "exercise_induced_angina                   2\n",
      "dtype: int64\n",
      "patient_id               180\n",
      "heart_disease_present      2\n",
      "dtype: int64\n"
     ]
    }
   ],
   "source": [
    "\"\"\"The function df.nunique() determines how many unique values there are in each column of the DataFrame “df,” offering information about the variety of data that makes up each feature.\"\"\"\n",
    "print(df_val.nunique())\n",
    "print(df_lab.nunique())"
   ]
  },
  {
   "cell_type": "markdown",
   "metadata": {},
   "source": [
    "### Exploratory Data Analysis (EDA) Overview\n",
    "Exploratory Data Analysis (EDA) involves analyzing and visualizing data to uncover patterns, anomalies, and relationships. It helps in understanding the dataset and identifying the steps needed for further analysis or model building. Below are both the general steps and specific steps tailored to your heart disease dataset."
   ]
  },
  {
   "cell_type": "code",
   "execution_count": 13,
   "metadata": {},
   "outputs": [],
   "source": [
    "copy_val=df_val.copy\n",
    "copy_lab=df_lab.copy"
   ]
  },
  {
   "cell_type": "code",
   "execution_count": 14,
   "metadata": {},
   "outputs": [
    {
     "name": "stdout",
     "output_type": "stream",
     "text": [
      "['normal' 'reversible_defect' 'fixed_defect']\n"
     ]
    }
   ],
   "source": [
    "# converting categorical to numerical value\n",
    "print(df_val['thal'].unique())\n"
   ]
  },
  {
   "cell_type": "code",
   "execution_count": 15,
   "metadata": {},
   "outputs": [],
   "source": [
    "thal_mapping = {\n",
    "    'normal': 0,\n",
    "    'fixed_defect': 1,\n",
    "    'reversible_defect': 2\n",
    "}\n",
    "\n",
    "df_val['thal'] = df_val['thal'].map(thal_mapping)\n"
   ]
  },
  {
   "cell_type": "code",
   "execution_count": 16,
   "metadata": {},
   "outputs": [
    {
     "name": "stdout",
     "output_type": "stream",
     "text": [
      "   thal\n",
      "0     0\n",
      "1     0\n",
      "2     0\n",
      "3     2\n",
      "4     2\n"
     ]
    }
   ],
   "source": [
    "print(df_val[['thal']].head())"
   ]
  },
  {
   "cell_type": "code",
   "execution_count": 17,
   "metadata": {},
   "outputs": [],
   "source": [
    "# Merge the datasets on patient_id\n",
    "df = pd.merge(df_val, df_lab, on='patient_id')"
   ]
  },
  {
   "cell_type": "markdown",
   "metadata": {},
   "source": [
    "### Focus on Numerical Columns\n",
    "Why? Descriptive statistics like mean, median, variance, and standard deviation are most informative for numerical columns, as they provide insights into the central tendency, spread, and distribution shape.\n",
    "Numerical Columns in Your Dataset:\n",
    "\n",
    "age\n",
    "resting_blood_pressure\n",
    "serum_cholesterol_mg_per_dl\n",
    "max_heart_rate_achieved\n",
    "oldpeak_eq_st_depression\n",
    "num_major_vessels\n",
    "slope_of_peak_exercise_st_segment\n",
    "Apply Descriptive Statistics to These Columns:\n",
    "\n",
    "All of the above numerical columns should have descriptive statistics applied. This will help you understand the distribution of patient characteristics and cardiovascular health indicators, which are crucial for predicting heart disease"
   ]
  },
  {
   "cell_type": "code",
   "execution_count": 18,
   "metadata": {},
   "outputs": [
    {
     "name": "stdout",
     "output_type": "stream",
     "text": [
      "Statistics for age:\n",
      "Mean: 54.81111111111111\n",
      "Median: 55.0\n",
      "Mode: 54\n",
      "Variance: 87.13730602110489\n",
      "Standard Deviation: 9.334736526603463\n",
      "Skewness: -0.19916557103159252\n",
      "Kurtosis: -0.5673461739656789\n",
      "\n",
      "\n",
      "Statistics for resting_blood_pressure:\n",
      "Mean: 131.3111111111111\n",
      "Median: 130.0\n",
      "Mode: 130\n",
      "Variance: 289.355183116077\n",
      "Standard Deviation: 17.010443354483062\n",
      "Skewness: 0.6570798993636248\n",
      "Kurtosis: 0.47310468283475293\n",
      "\n",
      "\n",
      "Statistics for serum_cholesterol_mg_per_dl:\n",
      "Mean: 249.2111111111111\n",
      "Median: 245.5\n",
      "Mode: 204\n",
      "Variance: 2779.1842333954064\n",
      "Standard Deviation: 52.71796879049312\n",
      "Skewness: 1.2739315506526112\n",
      "Kurtosis: 6.364424970640193\n",
      "\n",
      "\n",
      "Statistics for max_heart_rate_achieved:\n",
      "Mean: 149.48333333333332\n",
      "Median: 152.0\n",
      "Mode: 162\n",
      "Variance: 486.7986033519553\n",
      "Standard Deviation: 22.063512942230105\n",
      "Skewness: -0.3937048051980345\n",
      "Kurtosis: -0.48297052711987565\n",
      "\n",
      "\n",
      "Statistics for oldpeak_eq_st_depression:\n",
      "Mean: 1.01\n",
      "Median: 0.8\n",
      "Mode: 0.0\n",
      "Variance: 1.2574413407821228\n",
      "Standard Deviation: 1.1213569194427448\n",
      "Skewness: 1.5074124471085\n",
      "Kurtosis: 3.2427945216449388\n",
      "\n",
      "\n",
      "Statistics for num_major_vessels:\n",
      "Mean: 0.6944444444444444\n",
      "Median: 0.0\n",
      "Mode: 0\n",
      "Variance: 0.9396337678460581\n",
      "Standard Deviation: 0.9693470832710326\n",
      "Skewness: 1.1679990155733402\n",
      "Kurtosis: 0.13800769213037523\n",
      "\n",
      "\n",
      "Statistics for slope_of_peak_exercise_st_segment:\n",
      "Mean: 1.55\n",
      "Median: 1.0\n",
      "Mode: 1\n",
      "Variance: 0.3829608938547487\n",
      "Standard Deviation: 0.6188383422629441\n",
      "Skewness: 0.6661498639745786\n",
      "Kurtosis: -0.5050446808787519\n",
      "\n",
      "\n"
     ]
    }
   ],
   "source": [
    "numerical_columns = [\n",
    "    'age', 'resting_blood_pressure', 'serum_cholesterol_mg_per_dl', \n",
    "    'max_heart_rate_achieved', 'oldpeak_eq_st_depression', 'num_major_vessels', \n",
    "    'slope_of_peak_exercise_st_segment'\n",
    "]\n",
    "\n",
    "# Descriptive statistics for numerical columns\n",
    "for col in numerical_columns:\n",
    "    print(f\"Statistics for {col}:\")\n",
    "    print(f\"Mean: {df[col].mean()}\")\n",
    "    print(f\"Median: {df[col].median()}\")\n",
    "    print(f\"Mode: {df[col].mode()[0]}\")\n",
    "    print(f\"Variance: {df[col].var()}\")\n",
    "    print(f\"Standard Deviation: {df[col].std()}\")\n",
    "    print(f\"Skewness: {df[col].skew()}\")\n",
    "    print(f\"Kurtosis: {df[col].kurtosis()}\")\n",
    "    print(\"\\n\")\n"
   ]
  },
  {
   "cell_type": "code",
   "execution_count": 19,
   "metadata": {},
   "outputs": [
    {
     "name": "stdout",
     "output_type": "stream",
     "text": [
      "Mode for sex: 1\n",
      "Value Counts for sex:\n",
      "sex\n",
      "1    124\n",
      "0     56\n",
      "Name: count, dtype: int64\n",
      "\n",
      "Mode for fasting_blood_sugar_gt_120_mg_per_dl: 0\n",
      "Value Counts for fasting_blood_sugar_gt_120_mg_per_dl:\n",
      "fasting_blood_sugar_gt_120_mg_per_dl\n",
      "0    151\n",
      "1     29\n",
      "Name: count, dtype: int64\n",
      "\n",
      "Mode for exercise_induced_angina: 0\n",
      "Value Counts for exercise_induced_angina:\n",
      "exercise_induced_angina\n",
      "0    123\n",
      "1     57\n",
      "Name: count, dtype: int64\n",
      "\n"
     ]
    }
   ],
   "source": [
    "binary_columns = ['sex', 'fasting_blood_sugar_gt_120_mg_per_dl', 'exercise_induced_angina']\n",
    "\n",
    "# Descriptive statistics for binary columns\n",
    "for col in binary_columns:\n",
    "    print(f\"Mode for {col}: {df[col].mode()[0]}\")\n",
    "    print(f\"Value Counts for {col}:\\n{df[col].value_counts()}\\n\")\n"
   ]
  },
  {
   "cell_type": "code",
   "execution_count": 20,
   "metadata": {},
   "outputs": [
    {
     "name": "stdout",
     "output_type": "stream",
     "text": [
      "Mode for thal: 0\n",
      "Value Counts for thal:\n",
      "thal\n",
      "0    98\n",
      "2    74\n",
      "1     8\n",
      "Name: count, dtype: int64\n",
      "\n",
      "Mode for chest_pain_type: 4\n",
      "Value Counts for chest_pain_type:\n",
      "chest_pain_type\n",
      "4    82\n",
      "3    57\n",
      "2    28\n",
      "1    13\n",
      "Name: count, dtype: int64\n",
      "\n"
     ]
    }
   ],
   "source": [
    "\n",
    "# Descriptive statistics for categorical columns\n",
    "categorical_columns = ['thal', 'chest_pain_type']  # Add more categorical columns if needed\n",
    "for col in categorical_columns:\n",
    "    print(f\"Mode for {col}: {df[col].mode()[0]}\")\n",
    "    print(f\"Value Counts for {col}:\\n{df[col].value_counts()}\\n\")"
   ]
  },
  {
   "cell_type": "code",
   "execution_count": 21,
   "metadata": {},
   "outputs": [
    {
     "name": "stdout",
     "output_type": "stream",
     "text": [
      "Value Counts for heart_disease_present:\n",
      "heart_disease_present\n",
      "0    100\n",
      "1     80\n",
      "Name: count, dtype: int64\n",
      "Proportion of heart disease present:\n",
      "0.4444444444444444\n"
     ]
    }
   ],
   "source": [
    "# Descriptive statistics for the heart_disease_present column\n",
    "print(f\"Value Counts for heart_disease_present:\\n{df['heart_disease_present'].value_counts()}\")\n",
    "print(f\"Proportion of heart disease present:\\n{df['heart_disease_present'].mean()}\")  # Proportion of 1s\n"
   ]
  },
  {
   "cell_type": "code",
   "execution_count": 22,
   "metadata": {},
   "outputs": [
    {
     "name": "stdout",
     "output_type": "stream",
     "text": [
      "  patient_id  slope_of_peak_exercise_st_segment  resting_blood_pressure  \\\n",
      "0     0z64un                          -0.891241               -0.195195   \n",
      "1     ryoo3j                           0.729197               -1.256320   \n",
      "2     yt1s1x                          -0.891241               -0.372049   \n",
      "3     l2xjde                          -0.891241                1.219639   \n",
      "4     oyt4ek                           2.349636                2.752375   \n",
      "\n",
      "   num_major_vessels  fasting_blood_sugar_gt_120_mg_per_dl  \\\n",
      "0          -0.781639                                     0   \n",
      "1          -0.781639                                     0   \n",
      "2           1.991930                                     0   \n",
      "3          -0.781639                                     0   \n",
      "4          -0.781639                                     0   \n",
      "\n",
      "   resting_ekg_results  serum_cholesterol_mg_per_dl  oldpeak_eq_st_depression  \\\n",
      "0                    2                     1.136120                 -1.114680   \n",
      "1                    0                    -0.640365                  0.772626   \n",
      "2                    2                     1.072302                 -1.114680   \n",
      "3                    0                    -0.439512                 -1.114680   \n",
      "4                    2                     0.493405                  2.141716   \n",
      "\n",
      "   sex       age  max_heart_rate_achieved  exercise_induced_angina  thal_1  \\\n",
      "0    1 -1.053964                 0.932485                        0   False   \n",
      "1    0 -0.087134                 0.387084                        0   False   \n",
      "2    1  2.383654                 0.568884                        1   False   \n",
      "3    1 -1.591092                 1.432436                        0   False   \n",
      "4    1  0.449994                -0.203768                        0   False   \n",
      "\n",
      "   thal_2  chest_pain_type_2  chest_pain_type_3  chest_pain_type_4  \\\n",
      "0   False               True              False              False   \n",
      "1   False              False               True              False   \n",
      "2   False              False              False               True   \n",
      "3    True              False              False               True   \n",
      "4    True              False              False              False   \n",
      "\n",
      "   heart_disease_present  \n",
      "0                      0  \n",
      "1                      0  \n",
      "2                      1  \n",
      "3                      1  \n",
      "4                      0  \n"
     ]
    }
   ],
   "source": [
    "# Handling Skewness\n",
    "# Apply log transformation to reduce skewness for highly skewed features\n",
    "\n",
    "# Applying log transformation to reduce skewness\n",
    "df_val['serum_cholesterol_mg_per_dl'] = np.log1p(df_val['serum_cholesterol_mg_per_dl'])\n",
    "df_val['oldpeak_eq_st_depression'] = np.log1p(df_val['oldpeak_eq_st_depression'])\n",
    "df_val['num_major_vessels'] = np.log1p(df_val['num_major_vessels'])\n",
    "\n",
    "# Encoding Categorical Variables\n",
    "# OneHotEncoding for 'thal' and 'chest_pain_type'\n",
    "df_val = pd.get_dummies(df_val, columns=['thal', 'chest_pain_type'], drop_first=True)\n",
    "\n",
    "# Combining the heart_disease_present label with the main dataframe using a merge operation\n",
    "# df_lab contains heart_disease_present data\n",
    "df_val = df_val.merge(df_lab, on='patient_id', how='inner')\n",
    "\n",
    "# Feature Scaling (Optional)\n",
    "# Scaling the numerical features to have mean=0 and variance=1 (standardizing)\n",
    "numerical_features = ['age', 'resting_blood_pressure', 'serum_cholesterol_mg_per_dl', \n",
    "                      'max_heart_rate_achieved', 'oldpeak_eq_st_depression', \n",
    "                      'num_major_vessels', 'slope_of_peak_exercise_st_segment']\n",
    "\n",
    "scaler = StandardScaler()\n",
    "df_val[numerical_features] = scaler.fit_transform(df_val[numerical_features])\n",
    "\n",
    "# Check the processed DataFrame\n",
    "print(df_val.head())\n",
    "\n",
    "# Save the processed DataFrame for further modeling\n",
    "df_val.to_csv('processed_heart_disease_data.csv', index=False)\n"
   ]
  },
  {
   "cell_type": "code",
   "execution_count": 34,
   "metadata": {},
   "outputs": [
    {
     "data": {
      "image/png": "[encoded data removed]",
      "text/plain": [
       "<Figure size 1200x800 with 2 Axes>"
      ]
     },
     "metadata": {},
     "output_type": "display_data"
    },
    {
     "name": "stdout",
     "output_type": "stream",
     "text": [
      "Classification Report:\n",
      "               precision    recall  f1-score   support\n",
      "\n",
      "           0       0.86      0.86      0.86        21\n",
      "           1       0.84      0.84      0.84        19\n",
      "\n",
      "    accuracy                           0.85        40\n",
      "   macro avg       0.85      0.85      0.85        40\n",
      "weighted avg       0.85      0.85      0.85        40\n",
      "\n",
      "Confusion Matrix:\n",
      " [[18  3]\n",
      " [ 3 16]]\n",
      "Accuracy Score: 0.85\n",
      "ROC AUC Score: 0.9122807017543859\n"
     ]
    },
    {
     "data": {
      "image/png": "[encoded data removed]",
      "text/plain": [
       "<Figure size 800x600 with 1 Axes>"
      ]
     },
     "metadata": {},
     "output_type": "display_data"
    }
   ],
   "source": [
    "from sklearn.preprocessing import StandardScaler\n",
    "from imblearn.over_sampling import SMOTE\n",
    "from sklearn.model_selection import train_test_split\n",
    "from sklearn.linear_model import LogisticRegression\n",
    "from sklearn.metrics import classification_report, confusion_matrix, accuracy_score, roc_auc_score, roc_curve\n",
    "import warnings\n",
    "\n",
    "warnings.filterwarnings('ignore')\n",
    "\n",
    "# Ensure to exclude non-numeric columns like patient_id before computing the correlation matrix\n",
    "numeric_df_val = df_val.select_dtypes(include=[np.number])\n",
    "\n",
    "# Correlation Matrix\n",
    "corr_matrix = numeric_df_val.corr()\n",
    "plt.figure(figsize=(12, 8))\n",
    "sns.heatmap(corr_matrix, annot=True, fmt='.2f', cmap='coolwarm')\n",
    "plt.title('Correlation Matrix')\n",
    "plt.show()\n",
    "\n",
    "# Refined feature selection based on correlation and domain knowledge\n",
    "selected_features = ['chest_pain_type_4', 'thal_reversible_defect', 'num_major_vessels',\n",
    "                     'exercise_induced_angina', 'oldpeak_eq_st_depression']\n",
    "\n",
    "X = df_val[selected_features]\n",
    "y = df_lab['heart_disease_present']\n",
    "\n",
    "# Standardize the features\n",
    "scaler = StandardScaler()\n",
    "X_scaled = scaler.fit_transform(X)\n",
    "\n",
    "# Handle class imbalance with SMOTE\n",
    "smote = SMOTE(random_state=42)\n",
    "X_res, y_res = smote.fit_resample(X_scaled, y)\n",
    "\n",
    "# Split the data into training and testing sets\n",
    "X_train, X_test, y_train, y_test = train_test_split(X_res, y_res, test_size=0.2, random_state=42)\n",
    "\n",
    "# Build the Logistic Regression Model\n",
    "model = LogisticRegression(random_state=42)\n",
    "model.fit(X_train, y_train)\n",
    "\n",
    "# Make predictions\n",
    "y_pred = model.predict(X_test)\n",
    "y_pred_proba = model.predict_proba(X_test)[:, 1]\n",
    "\n",
    "# Evaluate the model\n",
    "print(\"Classification Report:\\n\", classification_report(y_test, y_pred))\n",
    "print(\"Confusion Matrix:\\n\", confusion_matrix(y_test, y_pred))\n",
    "print(\"Accuracy Score:\", accuracy_score(y_test, y_pred))\n",
    "print(\"ROC AUC Score:\", roc_auc_score(y_test, y_pred_proba))\n",
    "\n",
    "# Plot ROC Curve\n",
    "fpr, tpr, thresholds = roc_curve(y_test, y_pred_proba)\n",
    "plt.figure(figsize=(8, 6))\n",
    "plt.plot(fpr, tpr, label='ROC Curve (area = %0.2f)' % roc_auc_score(y_test, y_pred_proba))\n",
    "plt.plot([0, 1], [0, 1], 'k--')\n",
    "plt.xlabel('False Positive Rate')\n",
    "plt.ylabel('True Positive Rate')\n",
    "plt.title('ROC Curve')\n",
    "plt.legend(loc='lower right')\n",
    "plt.show()\n"
   ]
  },
  {
   "cell_type": "code",
   "execution_count": 35,
   "metadata": {},
   "outputs": [
    {
     "name": "stdout",
     "output_type": "stream",
     "text": [
      "Random Forest Classification Report:\n",
      "               precision    recall  f1-score   support\n",
      "\n",
      "           0       0.79      0.90      0.84        21\n",
      "           1       0.88      0.74      0.80        19\n",
      "\n",
      "    accuracy                           0.82        40\n",
      "   macro avg       0.83      0.82      0.82        40\n",
      "weighted avg       0.83      0.82      0.82        40\n",
      "\n",
      "Confusion Matrix:\n",
      " [[19  2]\n",
      " [ 5 14]]\n",
      "Accuracy Score: 0.825\n",
      "ROC AUC Score: 0.9097744360902256\n"
     ]
    }
   ],
   "source": [
    "from sklearn.ensemble import RandomForestClassifier\n",
    "\n",
    "rf_model = RandomForestClassifier(random_state=42)\n",
    "rf_model.fit(X_train, y_train)\n",
    "y_pred_rf = rf_model.predict(X_test)\n",
    "y_pred_proba_rf = rf_model.predict_proba(X_test)[:, 1]\n",
    "\n",
    "print(\"Random Forest Classification Report:\\n\", classification_report(y_test, y_pred_rf))\n",
    "print(\"Confusion Matrix:\\n\", confusion_matrix(y_test, y_pred_rf))\n",
    "print(\"Accuracy Score:\", accuracy_score(y_test, y_pred_rf))\n",
    "print(\"ROC AUC Score:\", roc_auc_score(y_test, y_pred_proba_rf))\n"
   ]
  },
  {
   "cell_type": "code",
   "execution_count": 36,
   "metadata": {},
   "outputs": [
    {
     "name": "stdout",
     "output_type": "stream",
     "text": [
      "Gradient Boosting Classification Report:\n",
      "               precision    recall  f1-score   support\n",
      "\n",
      "           0       0.79      0.90      0.84        21\n",
      "           1       0.88      0.74      0.80        19\n",
      "\n",
      "    accuracy                           0.82        40\n",
      "   macro avg       0.83      0.82      0.82        40\n",
      "weighted avg       0.83      0.82      0.82        40\n",
      "\n",
      "Confusion Matrix:\n",
      " [[19  2]\n",
      " [ 5 14]]\n",
      "Accuracy Score: 0.825\n",
      "ROC AUC Score: 0.9085213032581454\n"
     ]
    }
   ],
   "source": [
    "from sklearn.ensemble import GradientBoostingClassifier\n",
    "\n",
    "gb_model = GradientBoostingClassifier(random_state=42)\n",
    "gb_model.fit(X_train, y_train)\n",
    "y_pred_gb = gb_model.predict(X_test)\n",
    "y_pred_proba_gb = gb_model.predict_proba(X_test)[:, 1]\n",
    "\n",
    "print(\"Gradient Boosting Classification Report:\\n\", classification_report(y_test, y_pred_gb))\n",
    "print(\"Confusion Matrix:\\n\", confusion_matrix(y_test, y_pred_gb))\n",
    "print(\"Accuracy Score:\", accuracy_score(y_test, y_pred_gb))\n",
    "print(\"ROC AUC Score:\", roc_auc_score(y_test, y_pred_proba_gb))\n"
   ]
  },
  {
   "cell_type": "code",
   "execution_count": 37,
   "metadata": {},
   "outputs": [
    {
     "name": "stdout",
     "output_type": "stream",
     "text": [
      "SVM Classification Report:\n",
      "               precision    recall  f1-score   support\n",
      "\n",
      "           0       0.82      0.86      0.84        21\n",
      "           1       0.83      0.79      0.81        19\n",
      "\n",
      "    accuracy                           0.82        40\n",
      "   macro avg       0.83      0.82      0.82        40\n",
      "weighted avg       0.83      0.82      0.82        40\n",
      "\n",
      "Confusion Matrix:\n",
      " [[18  3]\n",
      " [ 4 15]]\n",
      "Accuracy Score: 0.825\n",
      "ROC AUC Score: 0.93734335839599\n"
     ]
    }
   ],
   "source": [
    "from sklearn.svm import SVC\n",
    "\n",
    "svm_model = SVC(probability=True, random_state=42)\n",
    "svm_model.fit(X_train, y_train)\n",
    "y_pred_svm = svm_model.predict(X_test)\n",
    "y_pred_proba_svm = svm_model.predict_proba(X_test)[:, 1]\n",
    "\n",
    "print(\"SVM Classification Report:\\n\", classification_report(y_test, y_pred_svm))\n",
    "print(\"Confusion Matrix:\\n\", confusion_matrix(y_test, y_pred_svm))\n",
    "print(\"Accuracy Score:\", accuracy_score(y_test, y_pred_svm))\n",
    "print(\"ROC AUC Score:\", roc_auc_score(y_test, y_pred_proba_svm))\n"
   ]
  },
  {
   "cell_type": "code",
   "execution_count": 39,
   "metadata": {},
   "outputs": [
    {
     "name": "stdout",
     "output_type": "stream",
     "text": [
      "Collecting xgboost\n",
      "  Downloading xgboost-2.1.1-py3-none-win_amd64.whl (124.9 MB)\n",
      "Requirement already satisfied: numpy in c:\\users\\user\\python39\\lib\\site-packages (from xgboost) (2.0.1)\n",
      "Requirement already satisfied: scipy in c:\\users\\user\\python39\\lib\\site-packages (from xgboost) (1.13.1)\n",
      "Installing collected packages: xgboost\n",
      "Successfully installed xgboost-2.1.1\n"
     ]
    },
    {
     "name": "stderr",
     "output_type": "stream",
     "text": [
      "WARNING: You are using pip version 20.2.3; however, version 24.2 is available.\n",
      "You should consider upgrading via the 'c:\\users\\user\\python39\\python.exe -m pip install --upgrade pip' command.\n"
     ]
    }
   ],
   "source": [
    "!pip install xgboost"
   ]
  },
  {
   "cell_type": "code",
   "execution_count": 41,
   "metadata": {},
   "outputs": [
    {
     "name": "stdout",
     "output_type": "stream",
     "text": [
      "XGBoost Classification Report:\n",
      "               precision    recall  f1-score   support\n",
      "\n",
      "           0       0.76      0.90      0.83        21\n",
      "           1       0.87      0.68      0.76        19\n",
      "\n",
      "    accuracy                           0.80        40\n",
      "   macro avg       0.81      0.79      0.80        40\n",
      "weighted avg       0.81      0.80      0.80        40\n",
      "\n",
      "Confusion Matrix:\n",
      " [[19  2]\n",
      " [ 6 13]]\n",
      "Accuracy Score: 0.8\n",
      "ROC AUC Score: 0.9172932330827067\n"
     ]
    }
   ],
   "source": [
    "from xgboost import XGBClassifier\n",
    "\n",
    "xgb_model = XGBClassifier(random_state=42)\n",
    "xgb_model.fit(X_train, y_train)\n",
    "y_pred_xgb = xgb_model.predict(X_test)\n",
    "y_pred_proba_xgb = xgb_model.predict_proba(X_test)[:, 1]\n",
    "\n",
    "print(\"XGBoost Classification Report:\\n\", classification_report(y_test, y_pred_xgb))\n",
    "print(\"Confusion Matrix:\\n\", confusion_matrix(y_test, y_pred_xgb))\n",
    "print(\"Accuracy Score:\", accuracy_score(y_test, y_pred_xgb))\n",
    "print(\"ROC AUC Score:\", roc_auc_score(y_test, y_pred_proba_xgb))\n"
   ]
  },
  {
   "cell_type": "code",
   "execution_count": 40,
   "metadata": {},
   "outputs": [
    {
     "name": "stdout",
     "output_type": "stream",
     "text": [
      "KNN Classification Report:\n",
      "               precision    recall  f1-score   support\n",
      "\n",
      "           0       0.86      0.86      0.86        21\n",
      "           1       0.84      0.84      0.84        19\n",
      "\n",
      "    accuracy                           0.85        40\n",
      "   macro avg       0.85      0.85      0.85        40\n",
      "weighted avg       0.85      0.85      0.85        40\n",
      "\n",
      "Confusion Matrix:\n",
      " [[18  3]\n",
      " [ 3 16]]\n",
      "Accuracy Score: 0.85\n",
      "ROC AUC Score: 0.8759398496240602\n"
     ]
    }
   ],
   "source": [
    "from sklearn.neighbors import KNeighborsClassifier\n",
    "\n",
    "knn_model = KNeighborsClassifier()\n",
    "knn_model.fit(X_train, y_train)\n",
    "y_pred_knn = knn_model.predict(X_test)\n",
    "y_pred_proba_knn = knn_model.predict_proba(X_test)[:, 1]\n",
    "\n",
    "print(\"KNN Classification Report:\\n\", classification_report(y_test, y_pred_knn))\n",
    "print(\"Confusion Matrix:\\n\", confusion_matrix(y_test, y_pred_knn))\n",
    "print(\"Accuracy Score:\", accuracy_score(y_test, y_pred_knn))\n",
    "print(\"ROC AUC Score:\", roc_auc_score(y_test, y_pred_proba_knn))\n"
   ]
  },
  {
   "cell_type": "code",
   "execution_count": null,
   "metadata": {},
   "outputs": [],
   "source": []
  }
 ],
 "metadata": {
  "kernelspec": {
   "display_name": "Python 3",
   "language": "python",
   "name": "python3"
  },
  "language_info": {
   "codemirror_mode": {
    "name": "ipython",
    "version": 3
   },
   "file_extension": ".py",
   "mimetype": "text/x-python",
   "name": "python",
   "nbconvert_exporter": "python",
   "pygments_lexer": "ipython3",
   "version": "3.9.0"
  }
 },
 "nbformat": 4,
 "nbformat_minor": 2
}
